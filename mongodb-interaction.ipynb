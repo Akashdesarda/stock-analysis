{
 "cells": [
  {
   "attachments": {},
   "cell_type": "markdown",
   "metadata": {},
   "source": [
    "**This notebook is used to interact with Mongodb for various**"
   ]
  },
  {
   "cell_type": "code",
   "execution_count": 2,
   "metadata": {},
   "outputs": [
    {
     "data": {
      "text/plain": [
       "True"
      ]
     },
     "execution_count": 2,
     "metadata": {},
     "output_type": "execute_result"
    }
   ],
   "source": [
    "import os\n",
    "import json\n",
    "\n",
    "import pandas as pd\n",
    "from dotenv import load_dotenv\n",
    "from pymongo import MongoClient\n",
    "from bunnet import init_bunnet\n",
    "from stock_analysis.schema.db import *\n",
    "\n",
    "load_dotenv()"
   ]
  },
  {
   "cell_type": "code",
   "execution_count": 3,
   "metadata": {},
   "outputs": [],
   "source": [
    "# creating async client\n",
    "client = MongoClient(os.environ[\"MONGODB_CONNECTION_STRING\"])\n",
    "\n",
    "# Initialize beanie\n",
    "# NOTE - db name is stock-repo-db & document_models will eventually become collection\n",
    "init_bunnet(database=client[\"stock-repo-db\"], document_models=[NiftyIndex,NiftySector])"
   ]
  },
  {
   "cell_type": "code",
   "execution_count": 15,
   "metadata": {},
   "outputs": [
    {
     "data": {
      "text/plain": [
       "<pymongo.results.InsertManyResult at 0x7fb4973d4b20>"
      ]
     },
     "execution_count": 15,
     "metadata": {},
     "output_type": "execute_result"
    }
   ],
   "source": [
    "# populating nifty index data into nifty-index collection\n",
    "data = pd.read_csv(\"data/nifty_index_data.csv\")\n",
    "\n",
    "index_data_collection = [\n",
    "    NiftyIndex(\n",
    "        symbol=row[\"symbol\"],\n",
    "        Nifty50=row[\"Nifty50\"],\n",
    "        Nifty100=row[\"Nifty100\"],\n",
    "        Nifty200=row[\"Nifty200\"],\n",
    "        Nifty500=row[\"Nifty500\"],\n",
    "        NiftySmallcap50=row[\"NiftySmallcap50\"],\n",
    "        NiftySmallcap250=row[\"NiftySmallcap250\"],\n",
    "        NiftyMidcap50=row[\"NiftyMidcap50\"],\n",
    "        NiftyMidcap150=row[\"NiftyMidcap150\"],\n",
    "        NiftyMidcap400=row[\"NiftyMidcap400\"],\n",
    "        NiftyNext50=row[\"NiftyNext50\"],\n",
    "    )\n",
    "    for _, row in data.iterrows()\n",
    "]\n",
    "\n",
    "NiftyIndex.insert_many(index_data_collection)"
   ]
  },
  {
   "cell_type": "code",
   "execution_count": 16,
   "metadata": {},
   "outputs": [
    {
     "data": {
      "text/plain": [
       "<pymongo.results.InsertManyResult at 0x7fb447e17d30>"
      ]
     },
     "execution_count": 16,
     "metadata": {},
     "output_type": "execute_result"
    }
   ],
   "source": [
    "# populating nifty sector data into nifty-sector collection\n",
    "with open(\"data/nifty500_secter_list.json\") as f:\n",
    "    sector_data = json.load(f)\n",
    "\n",
    "NiftySector.insert_many([\n",
    "    NiftySector(symbol=data[\"key\"], company_name=data[\"Company Name\"], isin_code=data[\"ISIN Code\"], industry=data[\"Industry\"],series=data[\"Series\"])\n",
    "    for data in sector_data\n",
    "])"
   ]
  },
  {
   "cell_type": "code",
   "execution_count": null,
   "metadata": {},
   "outputs": [],
   "source": []
  }
 ],
 "metadata": {
  "kernelspec": {
   "display_name": "stock-analysis-GaxleoDV-py3.10",
   "language": "python",
   "name": "python3"
  },
  "language_info": {
   "codemirror_mode": {
    "name": "ipython",
    "version": 3
   },
   "file_extension": ".py",
   "mimetype": "text/x-python",
   "name": "python",
   "nbconvert_exporter": "python",
   "pygments_lexer": "ipython3",
   "version": "3.10.8"
  },
  "orig_nbformat": 4,
  "vscode": {
   "interpreter": {
    "hash": "debc228d7124595a94441d4502d1070ef7cd2fe04952850b1e0fbbefcc44e925"
   }
  }
 },
 "nbformat": 4,
 "nbformat_minor": 2
}
